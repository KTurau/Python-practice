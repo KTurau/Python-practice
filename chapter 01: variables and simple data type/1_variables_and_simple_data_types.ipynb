{
 "cells": [
  {
   "attachments": {},
   "cell_type": "markdown",
   "metadata": {},
   "source": [
    "* Variable names can contain only letters, numbers, and underscores. They can start with a letter or an underscore, but not with a number. For instance, you can call a variable message_1 but not 1_message.\n",
    "* Spaces are not allowed in variable names, but underscores can be used to separate words in variable names. For example, greeting_message works, but greeting message will cause errors.\n",
    "* Avoid using Python keywords and function names as variable names; that is, do not use words that Python has reserved for a particular programmatic purpose, such as the word print\n",
    "* Variable names should be short but descriptive. For example, name is better than n, student_name is better than s_n, and name_length is better than length_of_persons_name\n",
    "* Be careful when using the lowercase letter l and the uppercase letter O because they could be confused with the numbers 1 and 0"
   ]
  },
  {
   "attachments": {},
   "cell_type": "markdown",
   "metadata": {},
   "source": [
    "The Python variables you’re using at this point should be lowercase. \n",
    "You won’t get errors if you use uppercase letters, but uppercase letters in variable names have special meanings -- Constants."
   ]
  },
  {
   "attachments": {},
   "cell_type": "markdown",
   "metadata": {},
   "source": [
    "The best way to understand new programming concepts is to try using them in your programs. If you get stuck while working on an exercise in this book, try doing something else for a while. If you’re still stuck, review the relevant part of that chapter. \n",
    "If you still need help, see the suggestions in Appendix C"
   ]
  },
  {
   "cell_type": "code",
   "execution_count": 4,
   "metadata": {},
   "outputs": [
    {
     "name": "stdout",
     "output_type": "stream",
     "text": [
      "hello python world!\n"
     ]
    }
   ],
   "source": [
    "# Variables \n",
    "# \n",
    "# (variable is connected to avalue, which is the inf \n",
    "# associated with that variable)\n",
    "\n",
    "message = \"hello python world!\"\n",
    "print(message)"
   ]
  },
  {
   "cell_type": "code",
   "execution_count": 5,
   "metadata": {},
   "outputs": [
    {
     "name": "stdout",
     "output_type": "stream",
     "text": [
      "hello python world!\n",
      "hello python crash course world!\n"
     ]
    }
   ],
   "source": [
    "# Variables \n",
    "# \n",
    "# (You can change the value of a variable in your program \n",
    "# at any time, and Python will always keep track of its current value)\n",
    "\n",
    "message = \"hello python world!\"\n",
    "print(message)\n",
    "message = \"hello python crash course world!\"\n",
    "print(message)"
   ]
  },
  {
   "cell_type": "code",
   "execution_count": 1,
   "metadata": {},
   "outputs": [
    {
     "name": "stdout",
     "output_type": "stream",
     "text": [
      "hello python crash course world!\n"
     ]
    }
   ],
   "source": [
    "# Variables \n",
    "# \n",
    "# (you don’t need to consider English spelling and grammar rules when \n",
    "# you’re trying to create variable names and writing code (MEsAGE)\n",
    "\n",
    "mesage = \"hello python crash course world!\"\n",
    "print(mesage)"
   ]
  },
  {
   "attachments": {},
   "cell_type": "markdown",
   "metadata": {},
   "source": [
    "A `string` is a series of characters. \n",
    "Anything inside quotes is considered a string in Python, and you can use single or double quotes around your strings"
   ]
  },
  {
   "cell_type": "code",
   "execution_count": 10,
   "metadata": {},
   "outputs": [
    {
     "name": "stdout",
     "output_type": "stream",
     "text": [
      "Ada Lovelace\n"
     ]
    }
   ],
   "source": [
    "# Data types. String. Changing Case in a String with Methods\n",
    "\n",
    "# title() -- is a method is an action that Python can perform on a piece \n",
    "# of data \n",
    "# .title() tells python to make the title() method act on the variable \"name\"\n",
    "# method is followed by a set of parentheses, because methods often need \n",
    "# additional information to do their work\n",
    "\n",
    "name = \"ada lovelace\"\n",
    "print(name.title())\n"
   ]
  },
  {
   "cell_type": "code",
   "execution_count": 60,
   "metadata": {},
   "outputs": [
    {
     "name": "stdout",
     "output_type": "stream",
     "text": [
      "ADA LOVELACE\n",
      "ada lovelace\n"
     ]
    }
   ],
   "source": [
    "# Data types. String. Changing Case in a String with Methods\n",
    "\n",
    "# lower() method is particularly useful for storing data. Many times \n",
    "# you won’t want to trust the capitalization that your users provide, \n",
    "# so you’ll convert strings to lowercase before storing them.\n",
    "# Then when you want to display the information, you’ll use the case\n",
    "# that makes the most sense for each string\n",
    "\n",
    "name = \"Ada Lovelace\"\n",
    "print(name.upper())\n",
    "print(name.lower())"
   ]
  },
  {
   "cell_type": "code",
   "execution_count": 61,
   "metadata": {},
   "outputs": [
    {
     "name": "stdout",
     "output_type": "stream",
     "text": [
      "ada lovelace\n"
     ]
    }
   ],
   "source": [
    "# Data types. String. Using Variables in Strings\n",
    "\n",
    "# use variable's value inside string\n",
    "# These strings are called f-strings. The f is for format, because # Python \n",
    "# formats the string by replacing the name of any variable in braces \n",
    "# with its value\n",
    "\n",
    "first_name = \"ada\" \n",
    "last_name = \"lovelace\"\n",
    "full_name = f\"{first_name} {last_name}\"\n",
    "print(full_name)\n",
    "\n"
   ]
  },
  {
   "cell_type": "code",
   "execution_count": 2,
   "metadata": {},
   "outputs": [
    {
     "name": "stdout",
     "output_type": "stream",
     "text": [
      "Hello, Ada Lovelace!\n"
     ]
    }
   ],
   "source": [
    "# Data types. String. Using Variables in Strings\n",
    "\n",
    "# use f-strings to compose complete messages using the information associated\n",
    "# with a variable\n",
    "\n",
    "first_name = \"ada\" \n",
    "last_name = \"lovelace\"\n",
    "full_name = f\"{first_name} {last_name}\"\n",
    "print(f\"Hello, {full_name.title()}!\")"
   ]
  },
  {
   "cell_type": "code",
   "execution_count": 5,
   "metadata": {},
   "outputs": [
    {
     "name": "stdout",
     "output_type": "stream",
     "text": [
      "Hello, Ada Lovelace!\n"
     ]
    }
   ],
   "source": [
    "# Data types. String. Using Variables in Strings\n",
    "\n",
    "# use f-strings to compose a message, and then assign the entire \n",
    "# message to a variable\n",
    "# by assigning the message to a variable we make the final print() call\n",
    "# much simpler\n",
    "\n",
    "first_name = \"ada\" \n",
    "last_name = \"lovelace\"\n",
    "full_name = f\"{first_name} {last_name}\"\n",
    "message = f\"Hello, {full_name.title()}!\"\n",
    "print(message)"
   ]
  },
  {
   "cell_type": "code",
   "execution_count": 6,
   "metadata": {},
   "outputs": [
    {
     "name": "stdout",
     "output_type": "stream",
     "text": [
      "Python\n",
      "\tPython\n"
     ]
    }
   ],
   "source": [
    "# Data types. String. Adding Whitespace to Strings with Tabs or Newlines\n",
    "\n",
    "# whitespace -- spaces, tabs, and end-of-line symbols\n",
    "# to add tab, use \\t\n",
    "\n",
    "print(\"Python\")\n",
    "print(\"\\tPython\")"
   ]
  },
  {
   "cell_type": "code",
   "execution_count": 7,
   "metadata": {},
   "outputs": [
    {
     "name": "stdout",
     "output_type": "stream",
     "text": [
      "Languages:\n",
      "Python\n",
      "C\n",
      "JavaScript\n"
     ]
    }
   ],
   "source": [
    "# Data types. String. Adding Whitespace to Strings with Tabs or Newlines\n",
    "\n",
    "# whitespace -- spaces, tabs, and end-of-line symbols\n",
    "# to add new line, use \\n\n",
    "\n",
    "print(\"Languages:\\nPython\\nC\\nJavaScript\")"
   ]
  },
  {
   "cell_type": "code",
   "execution_count": 14,
   "metadata": {},
   "outputs": [
    {
     "name": "stdout",
     "output_type": "stream",
     "text": [
      "Languages:\n",
      "\tPython\n",
      "\tC\n",
      "\tJavaScript\n"
     ]
    }
   ],
   "source": [
    "# Data types. String. Adding Whitespace to Strings with Tabs or Newlines\n",
    "\n",
    "# whitespace -- spaces, tabs, and end-of-line symbols\n",
    "# combine tabs and newlines in a single string\n",
    "\n",
    "print(\"Languages:\\n\\tPython\\n\\tC\\n\\tJavaScript\")"
   ]
  },
  {
   "cell_type": "code",
   "execution_count": 23,
   "metadata": {},
   "outputs": [
    {
     "data": {
      "text/plain": [
       "'python'"
      ]
     },
     "execution_count": 23,
     "metadata": {},
     "output_type": "execute_result"
    }
   ],
   "source": [
    "# Data types. String. Stripping Whitespace\n",
    "\n",
    "# Python can look for extra whitespace on the right and left sides of a\n",
    "# string. \n",
    "# To ensure that no whitespace exists at the right end of a string, use\n",
    "# the rstrip() method\n",
    "# However, it is only removed temporarily.\n",
    "\n",
    "favorite_language = 'python '\n",
    "favorite_language.rstrip()\n"
   ]
  },
  {
   "cell_type": "code",
   "execution_count": 37,
   "metadata": {},
   "outputs": [
    {
     "data": {
      "text/plain": [
       "'python'"
      ]
     },
     "execution_count": 37,
     "metadata": {},
     "output_type": "execute_result"
    }
   ],
   "source": [
    "# Data types. String. Stripping Whitespace\n",
    "\n",
    "# To remove the whitespace from the string permanently, you have to\n",
    "# associate the stripped value with the variable name\n",
    "\n",
    "favorite_language = 'python '\n",
    "favorite_language = favorite_language.rstrip()\n",
    "favorite_language"
   ]
  },
  {
   "cell_type": "code",
   "execution_count": 26,
   "metadata": {},
   "outputs": [
    {
     "data": {
      "text/plain": [
       "'python'"
      ]
     },
     "execution_count": 26,
     "metadata": {},
     "output_type": "execute_result"
    }
   ],
   "source": [
    "# Data types. String. Stripping Whitespace\n",
    "\n",
    "# Changing a variable’s value is done often in programming. \n",
    "# This is how a variable’s value can be updated as a program is \n",
    "# executed or in response to user input\n",
    "\n",
    "# strip whitespace from the left side of a string using the \n",
    "# lstrip() method, or from both sides at once using strip()\n",
    "\n",
    "favorite_language = ' python ' \n",
    "favorite_language.rstrip()\n",
    "favorite_language.lstrip()\n",
    "favorite_language.strip()"
   ]
  },
  {
   "attachments": {},
   "cell_type": "markdown",
   "metadata": {},
   "source": [
    "Experimenting with these stripping functions can help you become familiar with manipulating strings. In the real world, these stripping functions are used most often to clean up user input before it’s stored in a program."
   ]
  },
  {
   "cell_type": "code",
   "execution_count": 27,
   "metadata": {},
   "outputs": [
    {
     "name": "stdout",
     "output_type": "stream",
     "text": [
      "One of Python's strengths is its diverse community.\n"
     ]
    }
   ],
   "source": [
    "# Data types. String. Avoiding syntax errors with strings \n",
    "\n",
    "message = \"One of Python's strengths is its diverse community.\" \n",
    "print(message)\n"
   ]
  },
  {
   "attachments": {},
   "cell_type": "markdown",
   "metadata": {},
   "source": [
    "                            Data types. String\n",
    "                            TRY IT YOURSELF"
   ]
  },
  {
   "cell_type": "code",
   "execution_count": 30,
   "metadata": {},
   "outputs": [
    {
     "name": "stdout",
     "output_type": "stream",
     "text": [
      "K.TURAU\n",
      "k.turau\n",
      "K.Turau\n"
     ]
    }
   ],
   "source": [
    "name = \"k.turau\"\n",
    "print(name.upper())\n",
    "print(name.lower())\n",
    "print(name.title())"
   ]
  },
  {
   "cell_type": "code",
   "execution_count": 31,
   "metadata": {},
   "outputs": [
    {
     "name": "stdout",
     "output_type": "stream",
     "text": [
      "Hello Eric, would you like to learn some Python today?\n"
     ]
    }
   ],
   "source": [
    "first_name = \"eric\" \n",
    "print(f\"Hello {first_name.title()}, would you like to learn some Python today?\")"
   ]
  },
  {
   "cell_type": "code",
   "execution_count": 34,
   "metadata": {},
   "outputs": [
    {
     "name": "stdout",
     "output_type": "stream",
     "text": [
      "Albert Einstein once said, “A person who never made a\n",
      "mistake never tried anything new.”\n"
     ]
    }
   ],
   "source": [
    "print('Albert Einstein once said, “A person who never made a\\nmistake never tried anything new.”')"
   ]
  },
  {
   "cell_type": "code",
   "execution_count": 35,
   "metadata": {},
   "outputs": [
    {
     "name": "stdout",
     "output_type": "stream",
     "text": [
      "Alberteinstein once said, “A person who never made a\n",
      "mistake never tried anything new.”!\n"
     ]
    }
   ],
   "source": [
    "first_name = \"albert\" \n",
    "last_name = \"einstein\"\n",
    "full_name = f\"{first_name}{last_name}\"\n",
    "message = f'{full_name.title()} once said, “A person who never made a\\nmistake never tried anything new.”!'\n",
    "print(message)"
   ]
  },
  {
   "cell_type": "code",
   "execution_count": 2,
   "metadata": {},
   "outputs": [
    {
     "name": "stdout",
     "output_type": "stream",
     "text": [
      "Unmodified:\n",
      "\tEric Matthes\n",
      "\n",
      "\n",
      "Using lstrip():\n",
      "Eric Matthes\n",
      "\n",
      "\n",
      "Using rstrip():\n",
      "\tEric Matthes\n",
      "\n",
      "Using strip():\n",
      "Eric Matthes\n"
     ]
    }
   ],
   "source": [
    "name = \"\\tEric Matthes\\n\"\n",
    "\n",
    "print(\"Unmodified:\")\n",
    "print(name)\n",
    "\n",
    "print(\"\\nUsing lstrip():\")\n",
    "print(name.lstrip())\n",
    "\n",
    "print(\"\\nUsing rstrip():\")\n",
    "print(name.rstrip())\n",
    "\n",
    "print(\"\\nUsing strip():\")\n",
    "print(name.strip())\n"
   ]
  },
  {
   "cell_type": "code",
   "execution_count": 47,
   "metadata": {},
   "outputs": [
    {
     "name": "stdout",
     "output_type": "stream",
     "text": [
      "5\n",
      "1\n",
      "6\n",
      "1.5\n"
     ]
    }
   ],
   "source": [
    "# Data types. Numbers. Integers\n",
    "\n",
    "print(2 + 3)\n",
    "print(3 - 2)\n",
    "print(2 * 3)\n",
    "print(3 / 2)\n"
   ]
  },
  {
   "cell_type": "code",
   "execution_count": 48,
   "metadata": {},
   "outputs": [
    {
     "name": "stdout",
     "output_type": "stream",
     "text": [
      "9\n",
      "27\n",
      "1000000\n"
     ]
    }
   ],
   "source": [
    "# Data types. Numbers. Integers\n",
    "\n",
    "print(3 ** 2)\n",
    "print(3 ** 3)\n",
    "print(10 ** 6)"
   ]
  },
  {
   "cell_type": "code",
   "execution_count": 49,
   "metadata": {},
   "outputs": [
    {
     "name": "stdout",
     "output_type": "stream",
     "text": [
      "14\n",
      "20\n"
     ]
    }
   ],
   "source": [
    "# Data types. Numbers. Integers\n",
    "\n",
    "print(2 + 3 * 4)\n",
    "print((2 + 3) * 4)"
   ]
  },
  {
   "cell_type": "code",
   "execution_count": 52,
   "metadata": {},
   "outputs": [
    {
     "name": "stdout",
     "output_type": "stream",
     "text": [
      "0.2\n",
      "0.4\n",
      "0.2\n",
      "0.4\n"
     ]
    }
   ],
   "source": [
    "# Data types. Numbers. Floats\n",
    "\n",
    "print(0.1 + 0.1)\n",
    "print(0.2 + 0.2)\n",
    "print(2 * 0.1)\n",
    "print(2 * 0.2)\n"
   ]
  },
  {
   "cell_type": "code",
   "execution_count": 53,
   "metadata": {},
   "outputs": [
    {
     "name": "stdout",
     "output_type": "stream",
     "text": [
      "0.30000000000000004\n",
      "0.30000000000000004\n"
     ]
    }
   ],
   "source": [
    "# Data types. Numbers. Floats\n",
    "\n",
    "# you can sometimes get an arbitrary number of decimal places in your answer:\n",
    "\n",
    "print(0.2 + 0.1)\n",
    "print(3 * 0.1)\n"
   ]
  },
  {
   "cell_type": "code",
   "execution_count": 54,
   "metadata": {},
   "outputs": [
    {
     "name": "stdout",
     "output_type": "stream",
     "text": [
      "2.0\n"
     ]
    }
   ],
   "source": [
    "# Data types. Numbers. Integers and Floats\n",
    "\n",
    "# When you divide any two numbers, even if they are integers that result \n",
    "# in a whole number, you’ll always get a float\n",
    "\n",
    "print(4 / 2)"
   ]
  },
  {
   "cell_type": "code",
   "execution_count": 55,
   "metadata": {},
   "outputs": [
    {
     "name": "stdout",
     "output_type": "stream",
     "text": [
      "3.0\n",
      "6.0\n",
      "9.0\n"
     ]
    }
   ],
   "source": [
    "# Data types. Numbers. Integers and Floats\n",
    "\n",
    "# If you mix an integer and a float in any other operation, you’ll get \n",
    "# a float\n",
    "\n",
    "print(1 + 2.0)\n",
    "print(2 * 3.0)\n",
    "print(3.0 ** 2)"
   ]
  },
  {
   "cell_type": "code",
   "execution_count": 57,
   "metadata": {},
   "outputs": [
    {
     "name": "stdout",
     "output_type": "stream",
     "text": [
      "14000000000\n"
     ]
    }
   ],
   "source": [
    "# Data types. Numbers. Underscores in Numbers\n",
    "\n",
    "# group digits using underscores to make large numbers more readable.\n",
    "# Python prints only the digits\n",
    "\n",
    "universe_age = 14_000_000_000\n",
    "print(universe_age)\n"
   ]
  },
  {
   "cell_type": "code",
   "execution_count": 58,
   "metadata": {},
   "outputs": [
    {
     "name": "stdout",
     "output_type": "stream",
     "text": [
      "0\n",
      "0\n",
      "0\n"
     ]
    }
   ],
   "source": [
    "# Data types. Numbers. Multiple Assignment\n",
    "\n",
    "# You can assign values to more than one variable using just a single line. \n",
    "# This can help shorten your programs and make them easier to read; you’ll \n",
    "# use this technique most often when initializing a set of numbers.\n",
    "\n",
    "x, y, z = 0, 0, 0\n",
    "print(x)\n",
    "print(y)\n",
    "print(z)"
   ]
  },
  {
   "cell_type": "code",
   "execution_count": 62,
   "metadata": {},
   "outputs": [
    {
     "name": "stdout",
     "output_type": "stream",
     "text": [
      "5000\n"
     ]
    }
   ],
   "source": [
    "# Data types. Numbers. Constants\n",
    "\n",
    "#A constant is like a variable whose value stays the same throughout the life \n",
    "# of a program. Python doesn’t have built-in constant types, but Python \n",
    "# programmers use all capital letters to indicate a variable should be treated\n",
    "#  as a constant and never be changed\n",
    "\n",
    "MAX_CONNECTIONS = 5000\n",
    "print(MAX_CONNECTIONS)\n"
   ]
  },
  {
   "attachments": {},
   "cell_type": "markdown",
   "metadata": {},
   "source": [
    "As your programs become longer and more complicated, you should add \n",
    "notes within your programs that describe your overall approach to the \n",
    "problem you’re solving. A comment allows you to write notes in English \n",
    "within your programs.\n",
    "If you want to become a professional programmer or collaborate with \n",
    "other programmers, you should write meaningful comments.\n",
    "It’s much easier to delete extra comments later on than it is to go back \n",
    "and write comments for a sparsely commented program. \n",
    "If you don’t have anything specific to write because your programs are too simple at this point, just add your name and the current date at the top of each program file. Then write one sentence describing what the program does"
   ]
  },
  {
   "cell_type": "code",
   "execution_count": 64,
   "metadata": {},
   "outputs": [
    {
     "name": "stdout",
     "output_type": "stream",
     "text": [
      "The Zen of Python, by Tim Peters\n",
      "\n",
      "Beautiful is better than ugly.\n",
      "Explicit is better than implicit.\n",
      "Simple is better than complex.\n",
      "Complex is better than complicated.\n",
      "Flat is better than nested.\n",
      "Sparse is better than dense.\n",
      "Readability counts.\n",
      "Special cases aren't special enough to break the rules.\n",
      "Although practicality beats purity.\n",
      "Errors should never pass silently.\n",
      "Unless explicitly silenced.\n",
      "In the face of ambiguity, refuse the temptation to guess.\n",
      "There should be one-- and preferably only one --obvious way to do it.\n",
      "Although that way may not be obvious at first unless you're Dutch.\n",
      "Now is better than never.\n",
      "Although never is often better than *right* now.\n",
      "If the implementation is hard to explain, it's a bad idea.\n",
      "If the implementation is easy to explain, it may be a good idea.\n",
      "Namespaces are one honking great idea -- let's do more of those!\n"
     ]
    }
   ],
   "source": [
    "# The Zen of Python (the Python community's philosophy) \n",
    "# (principles for writing good Python code)\n",
    "\n",
    "import this"
   ]
  },
  {
   "attachments": {},
   "cell_type": "markdown",
   "metadata": {},
   "source": [
    "Now is better than never.\n",
    "\n",
    "You could spend the rest of your life learning all the intricacies of Python \n",
    "and of programming in general, but then you’d never complete any projects. Don’t try to write perfect code; write code that works, and then decide whether to improve your code for that project or move on to something new.\n",
    "\n",
    "As you continue to the next chapter and start digging into more involved topics, try to keep this philosophy of simplicity and clarity in mind. Experienced programmers will respect your code more and will be happy to give you feedback and collaborate with you on interesting projects."
   ]
  }
 ],
 "metadata": {
  "kernelspec": {
   "display_name": "Python 3",
   "language": "python",
   "name": "python3"
  },
  "language_info": {
   "codemirror_mode": {
    "name": "ipython",
    "version": 3
   },
   "file_extension": ".py",
   "mimetype": "text/x-python",
   "name": "python",
   "nbconvert_exporter": "python",
   "pygments_lexer": "ipython3",
   "version": "3.10.3 (tags/v3.10.3:a342a49, Mar 16 2022, 13:07:40) [MSC v.1929 64 bit (AMD64)]"
  },
  "orig_nbformat": 4,
  "vscode": {
   "interpreter": {
    "hash": "57ad0a41966bece6fb3431f11e84c54ec91516a9e1df6062518c2bf7e64f84fa"
   }
  }
 },
 "nbformat": 4,
 "nbformat_minor": 2
}
